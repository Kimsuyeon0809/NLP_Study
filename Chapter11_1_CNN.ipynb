{
  "nbformat": 4,
  "nbformat_minor": 0,
  "metadata": {
    "colab": {
      "provenance": []
    },
    "kernelspec": {
      "name": "python3",
      "display_name": "Python 3"
    },
    "language_info": {
      "name": "python"
    }
  },
  "cells": [
    {
      "cell_type": "markdown",
      "source": [
        "# Chapter11. NLP 를 위한 합성곱 신경망 (Convolution Neural Network)\n"
      ],
      "metadata": {
        "id": "vb6yJoBdW2BG"
      }
    },
    {
      "cell_type": "markdown",
      "source": [
        "# 1. 합성곱 신경망 (Convolution Neural Network)\n",
        "1-1) 합성곱 신경망이란\n",
        "-  합성곱층 (Convolution layer) + 풀링층 (Pooling layer)\n",
        "- 합성곱층 : CONV(합성곱 연산) + 활성화함수(ex ReLU)\n",
        "- 다층 퍼셉트론 : 몇 가지 픽셀만 값이 달라져도 민감하게 예측에 영향 받음\n",
        "- 합성곱 신경망 : 이미지의 공간적인 구조 정보 보존하며 학습"
      ],
      "metadata": {
        "id": "BxcIY5Qr73KF"
      }
    },
    {
      "cell_type": "markdown",
      "source": [
        "1-2) 채널(Channel)\n",
        "- 이미지 : (높이, 너비, 채널)의 3차원 텐서\n",
        "- 높이 : 세로 방향 픽셀 수, 너비 : 가로 방향 픽셀 수\n",
        "- 채널 : 색 성분\n",
        "\n",
        "ex) 28*28 픽셀의 흑백 이미지는 (28 x 28 x 1)크기를 가지는 3차원 텐서\n",
        "\n",
        "ex) 컬러 이미지는 3개의 채널(RGB) 가짐 -> 28*28 픽셀의 컬러 이미지는 (28 x 28 x 3)크기를 가지는 3차원 텐서\n"
      ],
      "metadata": {
        "id": "cWau-W_W-GYS"
      }
    },
    {
      "cell_type": "markdown",
      "source": [
        "1-3) 합성곱 연산 (Convolution operation)\n",
        "- 합성곱층 : 합성곱 연산 통해 이미지의 특징 추출\n",
        "- 커널 (kernel)(=필터)로 이미지 높이*너비를 가장 왼쪽부터 가장 오른쪽 아래까지 겹치며 훑음\n",
        "- 겹쳐지는 이미지와 커널의 원소값을 모두 곱하고 더해 출력\n",
        "- 특성 맵(feature map) :  입력으로부터 커널을 사용하여 합성곱 연산을 통해 나온 결과\n",
        "- 커널의 크기, 이동 범위(스트라이드, stride)는 사용자가 지정 가능"
      ],
      "metadata": {
        "id": "-Cfr5zQg-xI3"
      }
    },
    {
      "cell_type": "markdown",
      "source": [
        "1-4) 패딩 (Padding)\n",
        "- 특성 맵 (합성곱 연산의 결과)은 입력보다 크기가 작아짐\n",
        "- 패딩\n",
        " - 합성곱 연산 전, 입력의 가장자리에 지정된 개수의 폭만큼 행과 열 추가\n",
        " - 주로 0을 채우는 제로 패딩 사용\n",
        " - 합성곱 연산 이후에도 특성 맵의 크기가 입력 크기와 동일하게 만들기 위해 사용\n"
      ],
      "metadata": {
        "id": "4CXffR8iBODc"
      }
    },
    {
      "cell_type": "markdown",
      "source": [
        "1-5) 가중치와 편향\n",
        "- 합성곱 신경망의 가중치 = 커널 행렬의 원소\n",
        " - 합성곱 신경망의 가중치 개수 = 커널 행렬의 원소 수\n",
        " - 다층 퍼셉트론보다 훨씬 적은 수의 가중치 사용하여 공간적 구조 정보 보존\n",
        " - 특성 맵은 비선형성 추가를 위해 활성화 함수 지나게 됨\n",
        " - 합성곱 층 (convolution layer) : 합성곱 신경망에서 \"합성곱 연산 -> 특성맵으로 활성화함수 지나는 연산\"을 하는 층\n",
        "- 합성곱 신경망의 편향\n",
        " - 합성곱 신경망에도 커널 적용 후 편향 추가 가능.\n",
        " - 편향은 하나의 값만 존재, 커널 적용된 결과의 모든 원소에 더해짐\n"
      ],
      "metadata": {
        "id": "7YdRftN0B2jg"
      }
    },
    {
      "cell_type": "markdown",
      "source": [
        "1-6) 특성 맵의 크기 계산\n",
        "- 입력 크기, 커널 크기, 스트라이드 값으로 특성 맵 크기 계산 가능"
      ],
      "metadata": {
        "id": "O4lIwu7aE5yl"
      }
    },
    {
      "cell_type": "markdown",
      "source": [
        "1-7) 다수의 채널을 가지는 경우의 합성곱 연산 (3 차원 텐서의 합성곱 연산)\n",
        "- 커널의 채널 수도 입력의 채널 수만큼 존재해야 함 (입력 데이터 채널 수 = 커널의 채널 수)\n",
        "- (입력 데이터의 채널 수가 n인 경우) n개의 커널이 아닌, n개의 채널을 가진 1개의 커널임 주의\n",
        "- 여러개의 커널 사용한 합성곱 연산도 가능\n",
        "- 채널마다 합성곱 연산 수행 -> 결과 모두 더함 = 최종 특성맵"
      ],
      "metadata": {
        "id": "s0BESTNgFFur"
      }
    },
    {
      "cell_type": "markdown",
      "source": [
        "1-8) 3 차원 텐서의 합성곱 연산\n",
        "- 다수의 커널 사용하는 합성곱 연산에서, 사용한 커널 수 = 특성 맵의 채널 수\n"
      ],
      "metadata": {
        "id": "2vcvN4STFyJI"
      }
    },
    {
      "cell_type": "markdown",
      "source": [
        "1-9) 풀링 (Pooling)\n",
        "- 특성 맵을 다운샘플링하여 특성 맵의 크기 줄이는 풀링연산\n",
        "- 최대 풀링 (max pooling)\n",
        " - 커널과 겹치는 영역 안에서 최대값 추출하는 방식으로 다운샘플링\n",
        "- 평균 풀링 (average pooling)\n",
        " -  커널과 겹치는 영역 안에서 평균값 추출하는 방식으로 다운샘플링\n",
        "- 합성곱 연산과의 차이점 : 학습할 가중치 x, 연산 후 채널 수 변화 없음"
      ],
      "metadata": {
        "id": "O0qo0huCG0Yw"
      }
    },
    {
      "cell_type": "markdown",
      "source": [
        "# 2. 자연어 처리를 위한 1D CNN(1D Convolutional Neural Networks)\n",
        "2-1) 2D 합성곱 (2D Convolutions)\n",
        "-  이미지 처리에서의 합성곱 연산\n",
        "\n",
        "2-2) 1D 합성곱 (1D Convolutions)\n",
        "- 합성곱 신경망을 자연어 처리에서 사용하기 위한 1D CNN\n",
        "- 입력 : 각 단어가 벡터로 변환된 문장 행렬 (문장 -> 토큰화 -> 패딩 - > 임베딩 -> 1D 합성곱의 입력)\n",
        "- \"커널의 높이 = 해당 커널의 크기\"라고 간주 -> 커널의 높이 = 해당 커널의 크기, 너비 = 임베딩 벡터의 차원이 됨\n",
        "- 커널의 너비 = 임베딩 벡터의 차원\n",
        " - 너비 방향으로는 더이상 움직일 곳이 없음\n",
        " - 커널이 높이 방향(아래)로만 이동\n",
        "- 커널의 크기\n",
        " - 참고하는 단어의 묶음의 크기가 달라짐 = 참고하는 n-gram이 달라짐\n",
        " - ex) 커널의 크기=2 -> 각 연산의 스텝에서 참고하는 것은 bigram\n",
        " - ex) 커널의 크기=3 -> 각 연산의 스텝에서 참고하는 것은 trigram"
      ],
      "metadata": {
        "id": "SL_w5jQeHdET"
      }
    },
    {
      "cell_type": "markdown",
      "source": [
        "2-3) 맥스 풀링 (Max‑pooling)\n",
        "- 1D CNN의 합성곱층 다음에 풀링층 추가. 주로 맥스풀링 사용\n",
        "- 각 합성곱 연산으로부터 얻은 결과 벡터에서 가장 큰 값을 가진 스칼라 값을 빼내는 연산"
      ],
      "metadata": {
        "id": "Zw4wkY51JyoK"
      }
    },
    {
      "cell_type": "markdown",
      "source": [
        "2-4) 텍스트 분류를 위한 CNN 설계\n",
        "- 이진 분류를 위한 신경망, 소프트맥스 함수 사용 -> 출력층에서 뉴런의 개수 2\n",
        " - 크기가 4인 커널 2개, 3인 커널 2개, 2인 커널 2개를 사용\n",
        " - 합성곱 연산 후 총 6개의 벡터 얻게 됨\n",
        " - 6개의 벡터에 각각 맥스풀링 -> 6개의 스칼라\n",
        " - 6개 스칼라값을 뉴런이 2 개인 출력층에 완전 연결 (Dense layer 를 사용)"
      ],
      "metadata": {
        "id": "grDGOyVIKrdT"
      }
    },
    {
      "cell_type": "markdown",
      "source": [
        "질문 ) 왜 같은 크기의 커널을 1개가 아닌 2개씩 사용하는지?\n",
        "- 학습 가능한 매개변수의 수를 늘려 모델의 표현력을 향상시키기 위함\n",
        " - 모델이 학습할 수 있는 매개변수의 수가 많을수록, 모델은 더 복잡한 함수를 모델링할 수 있음 -> 같은 크기의 여러 개의 커널을 사용하면 모델의 매개변수 수가 증가하게 되어, 모델의 표현력 향상\n",
        "- 각각의 커널이 데이터의 서로 다른 부분을 병렬로 처리 가능\n",
        " - 모델은 입력 데이터에서 다양한 특징을 추출 -> 더 효과적인 학습"
      ],
      "metadata": {
        "id": "hroJgXGULjOv"
      }
    },
    {
      "cell_type": "markdown",
      "source": [
        "2-5) 케라스 (Keras) 로 CNN 구현하기\n",
        "- num_filters = 커널의 개수.\n",
        "- kernel_size = 커널의 크기.\n",
        "- padding = 패딩 방법.\n",
        " - valid : 패딩 없음. 제로 패딩없이 유효한 (valid) 값만을 사용한다는 의미에서 valid.\n",
        " - same : 합성곱 연산 후에 출력이 입력과 동일한 차원을 가지도록 왼쪽과 오른쪽 (또는 위, 아래) 에 제로\n",
        "패딩을 추가.\n",
        "- activation = 활성화 함수."
      ],
      "metadata": {
        "id": "JlRkaM4dMg7W"
      }
    },
    {
      "cell_type": "code",
      "source": [
        "from tensorflow.keras.layers import Conv1D, GlobalMaxPooling1D\n",
        "from keras.models import Sequential\n",
        "\n",
        "num_filters = 4 # 4개 커널 사용\n",
        "kernel_size = 2 # 커널 크기 2\n",
        "\n",
        "model = Sequential()\n",
        "model.add(Conv1D(num_filters, kernel_size, padding='valid', activation='relu'))"
      ],
      "metadata": {
        "id": "pCS2qm3kLt1X"
      },
      "execution_count": null,
      "outputs": []
    },
    {
      "cell_type": "code",
      "source": [
        "# 맥스풀링을 추가하는 경우\n",
        "model = Sequential()\n",
        "model.add(Conv1D(num_filters, kernel_size, padding='valid', activation='relu'))\n",
        "model.add(GlobalMaxPooling1D())"
      ],
      "metadata": {
        "id": "6hIYKoPoMyZE"
      },
      "execution_count": null,
      "outputs": []
    },
    {
      "cell_type": "markdown",
      "source": [
        "# 3. 1D CNN 으로 IMDB 리뷰 분류하기"
      ],
      "metadata": {
        "id": "XOaQpntrNhRy"
      }
    },
    {
      "cell_type": "markdown",
      "source": [
        "3-1) 데이터 전처리"
      ],
      "metadata": {
        "id": "2gpEZPTkN370"
      }
    },
    {
      "cell_type": "code",
      "source": [
        "from tensorflow.keras import datasets\n",
        "from tensorflow.keras.preprocessing.sequence import pad_sequences"
      ],
      "metadata": {
        "id": "p2F-FL1UM87z"
      },
      "execution_count": null,
      "outputs": []
    },
    {
      "cell_type": "code",
      "source": [
        "vocab_size = 10000 # 최대 10,000개 단어 허용하여 데이터 로드\n",
        "(X_train, y_train), (X_test, y_test) = datasets.imdb.load_data(num_words=vocab_size)"
      ],
      "metadata": {
        "colab": {
          "base_uri": "https://localhost:8080/"
        },
        "id": "t-6Zgm-COCKk",
        "outputId": "92a95fc2-6212-42f7-b751-17d396f53f96"
      },
      "execution_count": null,
      "outputs": [
        {
          "output_type": "stream",
          "name": "stdout",
          "text": [
            "Downloading data from https://storage.googleapis.com/tensorflow/tf-keras-datasets/imdb.npz\n",
            "17464789/17464789 [==============================] - 1s 0us/step\n"
          ]
        }
      ]
    },
    {
      "cell_type": "code",
      "source": [
        "print(X_train[:5]) # 샘플들이 정수 인코딩 된 상태"
      ],
      "metadata": {
        "colab": {
          "base_uri": "https://localhost:8080/"
        },
        "id": "-5Sfbpr4OHrv",
        "outputId": "cc7fbc43-c52d-4ab8-9477-9a9abed7cc64"
      },
      "execution_count": null,
      "outputs": [
        {
          "output_type": "stream",
          "name": "stdout",
          "text": [
            "[list([1, 14, 22, 16, 43, 530, 973, 1622, 1385, 65, 458, 4468, 66, 3941, 4, 173, 36, 256, 5, 25, 100, 43, 838, 112, 50, 670, 2, 9, 35, 480, 284, 5, 150, 4, 172, 112, 167, 2, 336, 385, 39, 4, 172, 4536, 1111, 17, 546, 38, 13, 447, 4, 192, 50, 16, 6, 147, 2025, 19, 14, 22, 4, 1920, 4613, 469, 4, 22, 71, 87, 12, 16, 43, 530, 38, 76, 15, 13, 1247, 4, 22, 17, 515, 17, 12, 16, 626, 18, 2, 5, 62, 386, 12, 8, 316, 8, 106, 5, 4, 2223, 5244, 16, 480, 66, 3785, 33, 4, 130, 12, 16, 38, 619, 5, 25, 124, 51, 36, 135, 48, 25, 1415, 33, 6, 22, 12, 215, 28, 77, 52, 5, 14, 407, 16, 82, 2, 8, 4, 107, 117, 5952, 15, 256, 4, 2, 7, 3766, 5, 723, 36, 71, 43, 530, 476, 26, 400, 317, 46, 7, 4, 2, 1029, 13, 104, 88, 4, 381, 15, 297, 98, 32, 2071, 56, 26, 141, 6, 194, 7486, 18, 4, 226, 22, 21, 134, 476, 26, 480, 5, 144, 30, 5535, 18, 51, 36, 28, 224, 92, 25, 104, 4, 226, 65, 16, 38, 1334, 88, 12, 16, 283, 5, 16, 4472, 113, 103, 32, 15, 16, 5345, 19, 178, 32])\n",
            " list([1, 194, 1153, 194, 8255, 78, 228, 5, 6, 1463, 4369, 5012, 134, 26, 4, 715, 8, 118, 1634, 14, 394, 20, 13, 119, 954, 189, 102, 5, 207, 110, 3103, 21, 14, 69, 188, 8, 30, 23, 7, 4, 249, 126, 93, 4, 114, 9, 2300, 1523, 5, 647, 4, 116, 9, 35, 8163, 4, 229, 9, 340, 1322, 4, 118, 9, 4, 130, 4901, 19, 4, 1002, 5, 89, 29, 952, 46, 37, 4, 455, 9, 45, 43, 38, 1543, 1905, 398, 4, 1649, 26, 6853, 5, 163, 11, 3215, 2, 4, 1153, 9, 194, 775, 7, 8255, 2, 349, 2637, 148, 605, 2, 8003, 15, 123, 125, 68, 2, 6853, 15, 349, 165, 4362, 98, 5, 4, 228, 9, 43, 2, 1157, 15, 299, 120, 5, 120, 174, 11, 220, 175, 136, 50, 9, 4373, 228, 8255, 5, 2, 656, 245, 2350, 5, 4, 9837, 131, 152, 491, 18, 2, 32, 7464, 1212, 14, 9, 6, 371, 78, 22, 625, 64, 1382, 9, 8, 168, 145, 23, 4, 1690, 15, 16, 4, 1355, 5, 28, 6, 52, 154, 462, 33, 89, 78, 285, 16, 145, 95])\n",
            " list([1, 14, 47, 8, 30, 31, 7, 4, 249, 108, 7, 4, 5974, 54, 61, 369, 13, 71, 149, 14, 22, 112, 4, 2401, 311, 12, 16, 3711, 33, 75, 43, 1829, 296, 4, 86, 320, 35, 534, 19, 263, 4821, 1301, 4, 1873, 33, 89, 78, 12, 66, 16, 4, 360, 7, 4, 58, 316, 334, 11, 4, 1716, 43, 645, 662, 8, 257, 85, 1200, 42, 1228, 2578, 83, 68, 3912, 15, 36, 165, 1539, 278, 36, 69, 2, 780, 8, 106, 14, 6905, 1338, 18, 6, 22, 12, 215, 28, 610, 40, 6, 87, 326, 23, 2300, 21, 23, 22, 12, 272, 40, 57, 31, 11, 4, 22, 47, 6, 2307, 51, 9, 170, 23, 595, 116, 595, 1352, 13, 191, 79, 638, 89, 2, 14, 9, 8, 106, 607, 624, 35, 534, 6, 227, 7, 129, 113])\n",
            " list([1, 4, 2, 2, 33, 2804, 4, 2040, 432, 111, 153, 103, 4, 1494, 13, 70, 131, 67, 11, 61, 2, 744, 35, 3715, 761, 61, 5766, 452, 9214, 4, 985, 7, 2, 59, 166, 4, 105, 216, 1239, 41, 1797, 9, 15, 7, 35, 744, 2413, 31, 8, 4, 687, 23, 4, 2, 7339, 6, 3693, 42, 38, 39, 121, 59, 456, 10, 10, 7, 265, 12, 575, 111, 153, 159, 59, 16, 1447, 21, 25, 586, 482, 39, 4, 96, 59, 716, 12, 4, 172, 65, 9, 579, 11, 6004, 4, 1615, 5, 2, 7, 5168, 17, 13, 7064, 12, 19, 6, 464, 31, 314, 11, 2, 6, 719, 605, 11, 8, 202, 27, 310, 4, 3772, 3501, 8, 2722, 58, 10, 10, 537, 2116, 180, 40, 14, 413, 173, 7, 263, 112, 37, 152, 377, 4, 537, 263, 846, 579, 178, 54, 75, 71, 476, 36, 413, 263, 2504, 182, 5, 17, 75, 2306, 922, 36, 279, 131, 2895, 17, 2867, 42, 17, 35, 921, 2, 192, 5, 1219, 3890, 19, 2, 217, 4122, 1710, 537, 2, 1236, 5, 736, 10, 10, 61, 403, 9, 2, 40, 61, 4494, 5, 27, 4494, 159, 90, 263, 2311, 4319, 309, 8, 178, 5, 82, 4319, 4, 65, 15, 9225, 145, 143, 5122, 12, 7039, 537, 746, 537, 537, 15, 7979, 4, 2, 594, 7, 5168, 94, 9096, 3987, 2, 11, 2, 4, 538, 7, 1795, 246, 2, 9, 2, 11, 635, 14, 9, 51, 408, 12, 94, 318, 1382, 12, 47, 6, 2683, 936, 5, 6307, 2, 19, 49, 7, 4, 1885, 2, 1118, 25, 80, 126, 842, 10, 10, 2, 2, 4726, 27, 4494, 11, 1550, 3633, 159, 27, 341, 29, 2733, 19, 4185, 173, 7, 90, 2, 8, 30, 11, 4, 1784, 86, 1117, 8, 3261, 46, 11, 2, 21, 29, 9, 2841, 23, 4, 1010, 2, 793, 6, 2, 1386, 1830, 10, 10, 246, 50, 9, 6, 2750, 1944, 746, 90, 29, 2, 8, 124, 4, 882, 4, 882, 496, 27, 2, 2213, 537, 121, 127, 1219, 130, 5, 29, 494, 8, 124, 4, 882, 496, 4, 341, 7, 27, 846, 10, 10, 29, 9, 1906, 8, 97, 6, 236, 2, 1311, 8, 4, 2, 7, 31, 7, 2, 91, 2, 3987, 70, 4, 882, 30, 579, 42, 9, 12, 32, 11, 537, 10, 10, 11, 14, 65, 44, 537, 75, 2, 1775, 3353, 2, 1846, 4, 2, 7, 154, 5, 4, 518, 53, 2, 2, 7, 3211, 882, 11, 399, 38, 75, 257, 3807, 19, 2, 17, 29, 456, 4, 65, 7, 27, 205, 113, 10, 10, 2, 4, 2, 2, 9, 242, 4, 91, 1202, 2, 5, 2070, 307, 22, 7, 5168, 126, 93, 40, 2, 13, 188, 1076, 3222, 19, 4, 2, 7, 2348, 537, 23, 53, 537, 21, 82, 40, 2, 13, 2, 14, 280, 13, 219, 4, 2, 431, 758, 859, 4, 953, 1052, 2, 7, 5991, 5, 94, 40, 25, 238, 60, 2, 4, 2, 804, 2, 7, 4, 9941, 132, 8, 67, 6, 22, 15, 9, 283, 8, 5168, 14, 31, 9, 242, 955, 48, 25, 279, 2, 23, 12, 1685, 195, 25, 238, 60, 796, 2, 4, 671, 7, 2804, 5, 4, 559, 154, 888, 7, 726, 50, 26, 49, 7008, 15, 566, 30, 579, 21, 64, 2574])\n",
            " list([1, 249, 1323, 7, 61, 113, 10, 10, 13, 1637, 14, 20, 56, 33, 2401, 18, 457, 88, 13, 2626, 1400, 45, 3171, 13, 70, 79, 49, 706, 919, 13, 16, 355, 340, 355, 1696, 96, 143, 4, 22, 32, 289, 7, 61, 369, 71, 2359, 5, 13, 16, 131, 2073, 249, 114, 249, 229, 249, 20, 13, 28, 126, 110, 13, 473, 8, 569, 61, 419, 56, 429, 6, 1513, 18, 35, 534, 95, 474, 570, 5, 25, 124, 138, 88, 12, 421, 1543, 52, 725, 6397, 61, 419, 11, 13, 1571, 15, 1543, 20, 11, 4, 2, 5, 296, 12, 3524, 5, 15, 421, 128, 74, 233, 334, 207, 126, 224, 12, 562, 298, 2167, 1272, 7, 2601, 5, 516, 988, 43, 8, 79, 120, 15, 595, 13, 784, 25, 3171, 18, 165, 170, 143, 19, 14, 5, 7224, 6, 226, 251, 7, 61, 113])]\n"
          ]
        }
      ]
    },
    {
      "cell_type": "code",
      "source": [
        "# 패딩 - 샘플 길이 200으로 맞추기\n",
        "max_len = 200\n",
        "X_train = pad_sequences(X_train, maxlen=200)\n",
        "X_test = pad_sequences(X_test, maxlen=200)"
      ],
      "metadata": {
        "id": "aUcbfjqfOV--"
      },
      "execution_count": null,
      "outputs": []
    },
    {
      "cell_type": "code",
      "source": [
        "print('X_train의 크기(shape) :',X_train.shape)\n",
        "print('X_test의 크기(shape) :',X_test.shape)"
      ],
      "metadata": {
        "colab": {
          "base_uri": "https://localhost:8080/"
        },
        "id": "s1owqzhwOkXg",
        "outputId": "a21d16a6-c8a7-42c6-b9f9-6f96c05ae53c"
      },
      "execution_count": null,
      "outputs": [
        {
          "output_type": "stream",
          "name": "stdout",
          "text": [
            "X_train의 크기(shape) : (25000, 200)\n",
            "X_test의 크기(shape) : (25000, 200)\n"
          ]
        }
      ]
    },
    {
      "cell_type": "code",
      "source": [
        "print(y_train[:5])"
      ],
      "metadata": {
        "colab": {
          "base_uri": "https://localhost:8080/"
        },
        "id": "UqPLNVw0OohT",
        "outputId": "3c706c92-71d2-46fd-fe25-1a22d1c5612d"
      },
      "execution_count": null,
      "outputs": [
        {
          "output_type": "stream",
          "name": "stdout",
          "text": [
            "[1 0 0 1 0]\n"
          ]
        }
      ]
    },
    {
      "cell_type": "markdown",
      "source": [
        "3-2) 1D CNN 으로 IMDB 리뷰 분류하기"
      ],
      "metadata": {
        "id": "N20W0NXiO8GS"
      }
    },
    {
      "cell_type": "code",
      "source": [
        "from tensorflow.keras.models import Sequential\n",
        "from tensorflow.keras.layers import Embedding, Dropout, Conv1D, GlobalMaxPooling1D, Dense\n",
        "from tensorflow.keras.callbacks import EarlyStopping, ModelCheckpoint\n",
        "from tensorflow.keras.models import load_model\n",
        "\n",
        "model = Sequential() # Sequential 모델(Keras 모델의 기본적인 형태)을 생성\n",
        "model.add(Embedding(vocab_size, 256)) # 단어 임베딩 레이어 / 임베딩 벡터의 차원 : 256\n",
        "model.add(Dropout(0.3)) # 드롭 아웃 비율 : 0.3\n",
        "model.add(Conv1D(256, 3, padding='valid', activation='relu')) # 커널 크기 : 3, 커널 총 256 개 사용\n",
        "model.add(GlobalMaxPooling1D()) # 맥스풀링 수행\n",
        "model.add(Dense(128, activation='relu')) # 완전 연결 레이어 / 은닉층의 뉴런 수 : 128 / 활성화 함수 : ReLU\n",
        "model.add(Dropout(0.5)) # 드롭 아웃 비율 : 0.5\n",
        "model.add(Dense(1, activation='sigmoid')) # 이진 분류 모델이므로 활성화함수 시그모이드"
      ],
      "metadata": {
        "id": "WZZGM_EIOycY"
      },
      "execution_count": null,
      "outputs": []
    },
    {
      "cell_type": "code",
      "source": [
        "model.summary()"
      ],
      "metadata": {
        "colab": {
          "base_uri": "https://localhost:8080/"
        },
        "id": "Avqak2pWPBaj",
        "outputId": "e9933809-b554-4dbd-e0fb-aa49c5d97f12"
      },
      "execution_count": null,
      "outputs": [
        {
          "output_type": "stream",
          "name": "stdout",
          "text": [
            "Model: \"sequential_2\"\n",
            "_________________________________________________________________\n",
            " Layer (type)                Output Shape              Param #   \n",
            "=================================================================\n",
            " embedding (Embedding)       (None, None, 256)         2560000   \n",
            "                                                                 \n",
            " dropout (Dropout)           (None, None, 256)         0         \n",
            "                                                                 \n",
            " conv1d_2 (Conv1D)           (None, None, 256)         196864    \n",
            "                                                                 \n",
            " global_max_pooling1d_1 (Gl  (None, 256)               0         \n",
            " obalMaxPooling1D)                                               \n",
            "                                                                 \n",
            " dense (Dense)               (None, 128)               32896     \n",
            "                                                                 \n",
            " dropout_1 (Dropout)         (None, 128)               0         \n",
            "                                                                 \n",
            " dense_1 (Dense)             (None, 1)                 129       \n",
            "                                                                 \n",
            "=================================================================\n",
            "Total params: 2789889 (10.64 MB)\n",
            "Trainable params: 2789889 (10.64 MB)\n",
            "Non-trainable params: 0 (0.00 Byte)\n",
            "_________________________________________________________________\n"
          ]
        }
      ]
    },
    {
      "cell_type": "code",
      "source": [
        "es = EarlyStopping(monitor = 'val_loss', mode = 'min', verbose = 1, patience = 3)\n",
        "# 검증 데이터 손실 증가=과적합 징후 -> 검증 데이터 손실이 3회 증가하면 학습 조기 종료\n",
        "mc = ModelCheckpoint('best_model.h5', monitor = 'val_acc', mode = 'max', verbose = 1, save_best_only = True)\n",
        "# 검증 데이터의 정확도가 이전보다 좋아지는 경우에만 모델 저장"
      ],
      "metadata": {
        "id": "BwDZVKrzPCVz"
      },
      "execution_count": null,
      "outputs": []
    },
    {
      "cell_type": "code",
      "source": [
        "model.compile(optimizer='adam', loss = 'binary_crossentropy', metrics = ['acc']) # 손실함수 : 크로스엔트로피\n",
        "history = model.fit(X_train, y_train, epochs = 20, validation_data = (X_test, y_test), callbacks=[es, mc]) # 20 에포크를 수행"
      ],
      "metadata": {
        "colab": {
          "base_uri": "https://localhost:8080/"
        },
        "id": "oHEB4kZqPEE7",
        "outputId": "670110a0-3ffd-4e09-bf05-0b30b66bc862"
      },
      "execution_count": null,
      "outputs": [
        {
          "output_type": "stream",
          "name": "stdout",
          "text": [
            "Epoch 1/20\n",
            "782/782 [==============================] - ETA: 0s - loss: 0.4272 - acc: 0.7887\n",
            "Epoch 1: val_acc improved from -inf to 0.87812, saving model to best_model.h5\n",
            "782/782 [==============================] - 270s 343ms/step - loss: 0.4272 - acc: 0.7887 - val_loss: 0.2908 - val_acc: 0.8781\n",
            "Epoch 2/20\n"
          ]
        },
        {
          "output_type": "stream",
          "name": "stderr",
          "text": [
            "/usr/local/lib/python3.10/dist-packages/keras/src/engine/training.py:3103: UserWarning: You are saving your model as an HDF5 file via `model.save()`. This file format is considered legacy. We recommend using instead the native Keras format, e.g. `model.save('my_model.keras')`.\n",
            "  saving_api.save_model(\n"
          ]
        },
        {
          "output_type": "stream",
          "name": "stdout",
          "text": [
            "782/782 [==============================] - ETA: 0s - loss: 0.2221 - acc: 0.9140\n",
            "Epoch 2: val_acc improved from 0.87812 to 0.88744, saving model to best_model.h5\n",
            "782/782 [==============================] - 221s 283ms/step - loss: 0.2221 - acc: 0.9140 - val_loss: 0.2709 - val_acc: 0.8874\n",
            "Epoch 3/20\n",
            "782/782 [==============================] - ETA: 0s - loss: 0.1207 - acc: 0.9574\n",
            "Epoch 3: val_acc did not improve from 0.88744\n",
            "782/782 [==============================] - 221s 283ms/step - loss: 0.1207 - acc: 0.9574 - val_loss: 0.3105 - val_acc: 0.8855\n",
            "Epoch 4/20\n",
            "782/782 [==============================] - ETA: 0s - loss: 0.0498 - acc: 0.9832\n",
            "Epoch 4: val_acc did not improve from 0.88744\n",
            "782/782 [==============================] - 209s 267ms/step - loss: 0.0498 - acc: 0.9832 - val_loss: 0.3974 - val_acc: 0.8825\n",
            "Epoch 5/20\n",
            "782/782 [==============================] - ETA: 0s - loss: 0.0309 - acc: 0.9894\n",
            "Epoch 5: val_acc did not improve from 0.88744\n",
            "782/782 [==============================] - 260s 333ms/step - loss: 0.0309 - acc: 0.9894 - val_loss: 0.4507 - val_acc: 0.8808\n",
            "Epoch 5: early stopping\n"
          ]
        }
      ]
    },
    {
      "cell_type": "markdown",
      "source": [
        "실행 결과 epoch 5 에서 조기종료됨"
      ],
      "metadata": {
        "id": "_3uFAr07RSqm"
      }
    },
    {
      "cell_type": "code",
      "source": [
        "# 저장된 모델 로드, 테스트 정확도 확인\n",
        "loaded_model = load_model('best_model.h5')\n",
        "print(\"\\n 테스트 정확도: %.4f\" % (loaded_model.evaluate(X_test, y_test)[1]))"
      ],
      "metadata": {
        "colab": {
          "base_uri": "https://localhost:8080/"
        },
        "id": "gZ3LvgvJPEx_",
        "outputId": "8edfa2c2-c854-4fc9-fdc4-2f9a07b2c9f4"
      },
      "execution_count": null,
      "outputs": [
        {
          "output_type": "stream",
          "name": "stdout",
          "text": [
            "782/782 [==============================] - 40s 51ms/step - loss: 0.2709 - acc: 0.8874\n",
            "\n",
            " 테스트 정확도: 0.8874\n"
          ]
        }
      ]
    },
    {
      "cell_type": "code",
      "source": [
        "import matplotlib.pyplot as plt\n",
        "epochs = range(1, len(history.history['acc']) + 1)\n",
        "plt.plot(epochs, history.history['loss'])\n",
        "plt.plot(epochs, history.history['val_loss'])\n",
        "plt.title('model loss')\n",
        "plt.ylabel('loss')\n",
        "plt.xlabel('epoch')\n",
        "plt.legend(['train', 'test'], loc='upper left')\n",
        "plt.show()"
      ],
      "metadata": {
        "colab": {
          "base_uri": "https://localhost:8080/",
          "height": 472
        },
        "id": "MRgPW0TlPSnD",
        "outputId": "ce29594e-aabe-4082-a171-6b7760ac6cf8"
      },
      "execution_count": null,
      "outputs": [
        {
          "output_type": "display_data",
          "data": {
            "text/plain": [
              "<Figure size 640x480 with 1 Axes>"
            ],
            "image/png": "[encoded data removed]"
          },
          "metadata": {}
        }
      ]
    },
    {
      "cell_type": "code",
      "source": [],
      "metadata": {
        "id": "NsTL9iBLPTb4"
      },
      "execution_count": null,
      "outputs": []
    }
  ]
}